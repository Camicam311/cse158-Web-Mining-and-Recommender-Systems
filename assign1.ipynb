{
 "cells": [
  {
   "cell_type": "code",
   "execution_count": 1,
   "metadata": {},
   "outputs": [],
   "source": [
    "import numpy as np\n",
    "import pandas as pd\n",
    "import os\n",
    "import string\n"
   ]
  },
  {
   "cell_type": "code",
   "execution_count": 2,
   "metadata": {},
   "outputs": [],
   "source": [
    "import gzip\n",
    "from collections import defaultdict\n",
    "\n",
    "def readGz(path):\n",
    "    for l in gzip.open(path, 'rt'):\n",
    "        yield eval(l)\n",
    "\n",
    "def readCSV(path):\n",
    "    f = gzip.open(path, 'rt')\n",
    "    f.readline()\n",
    "    for l in f:\n",
    "        yield l.strip().split(',')\n"
   ]
  },
  {
   "cell_type": "code",
   "execution_count": 3,
   "metadata": {},
   "outputs": [],
   "source": [
    "bookCount = defaultdict(int)\n",
    "userCount = defaultdict(int)\n",
    "userbook = defaultdict(set)\n",
    "bookuser = defaultdict(set)\n",
    "totalRead = 0\n",
    "val_user = []\n",
    "val_read = []\n",
    "train_user = []\n",
    "train_read = []\n",
    "for user,book,_ in readCSV(\"train_Interactions.csv.gz\"):\n",
    "    totalRead += 1\n",
    "    if totalRead >190000:\n",
    "        val_user.append(user)\n",
    "        val_read.append(book)\n",
    "    else:\n",
    "        userCount[user] +=1\n",
    "        bookCount[book] += 1\n",
    "        userbook[user].add(book)\n",
    "        bookuser[book].add(user)\n",
    "        train_user.append(user)\n",
    "        train_read.append(book)"
   ]
  },
  {
   "cell_type": "code",
   "execution_count": 79,
   "metadata": {},
   "outputs": [],
   "source": [
    "mostPopular = [(bookCount[x], x) for x in bookCount]\n",
    "mostPopular.sort()\n",
    "mostPopular.reverse()\n",
    "popularity = set()\n",
    "count = 0\n",
    "for ic, i in mostPopular:\n",
    "    count += ic\n",
    "    popularity.add(i)\n",
    "    if count > totalRead/1.7: break"
   ]
  },
  {
   "cell_type": "code",
   "execution_count": 5,
   "metadata": {},
   "outputs": [],
   "source": [
    "threshold = 100\n",
    "booklover = [x for x in userCount if userCount[x]>threshold]"
   ]
  },
  {
   "cell_type": "code",
   "execution_count": 19,
   "metadata": {},
   "outputs": [],
   "source": [
    "def Jaccard(s1,s2):\n",
    "    numer = len(s1.intersection(s2))\n",
    "    denom = len(s1.union(s2))\n",
    "    return numer/denom"
   ]
  },
  {
   "cell_type": "code",
   "execution_count": 7,
   "metadata": {},
   "outputs": [],
   "source": [
    "train_unread = []\n",
    "for u in train_user:\n",
    "    posi = userbook[u]\n",
    "    neg = set(bookCount.keys()).difference(posi)\n",
    "    train_unread.append(np.random.choice(list(neg)))"
   ]
  },
  {
   "cell_type": "code",
   "execution_count": 8,
   "metadata": {},
   "outputs": [],
   "source": [
    "val_unread = []\n",
    "for u in val_user:\n",
    "    posi = userbook[u]\n",
    "    neg = set(bookCount.keys()).difference(posi)\n",
    "    val_unread.append(np.random.choice(list(neg)))"
   ]
  },
  {
   "cell_type": "code",
   "execution_count": 80,
   "metadata": {},
   "outputs": [],
   "source": [
    "def popular(book):\n",
    "    if book in popularity:\n",
    "        return 1\n",
    "    else:\n",
    "        return 0"
   ]
  },
  {
   "cell_type": "code",
   "execution_count": 12,
   "metadata": {},
   "outputs": [],
   "source": [
    "def active_user(user):\n",
    "#     if user in booklover:\n",
    "#         return 1\n",
    "#     else:\n",
    "#         return 0\n",
    "    return len(userbook[user])"
   ]
  },
  {
   "cell_type": "code",
   "execution_count": 13,
   "metadata": {},
   "outputs": [],
   "source": [
    "def Jaccard_simi(user, book):\n",
    "    s = []\n",
    "    for b in userbook[user]:\n",
    "        s.append(Jaccard(bookuser[b],bookuser[book]))\n",
    "        s.sort()\n",
    "        s.reverse()\n",
    "    if s[0]>0.03:\n",
    "        return 1\n",
    "    else:\n",
    "        return 0"
   ]
  },
  {
   "cell_type": "code",
   "execution_count": 22,
   "metadata": {},
   "outputs": [],
   "source": [
    "def diverse_reader(user):\n",
    "    books = list(userbook[user])\n",
    "    s = []\n",
    "    l = len(books)\n",
    "    for i in range(l-1):\n",
    "        for j in range(i,l,1):\n",
    "            s.append(Jaccard(bookuser[books[i]],bookuser[books[j]]))\n",
    "    s.sort()\n",
    "    s.reverse()\n",
    "    return np.mean(s)"
   ]
  },
  {
   "cell_type": "code",
   "execution_count": 23,
   "metadata": {},
   "outputs": [
    {
     "name": "stderr",
     "output_type": "stream",
     "text": [
      "C:\\Users\\Claire\\Anaconda3\\lib\\site-packages\\numpy\\core\\fromnumeric.py:3118: RuntimeWarning: Mean of empty slice.\n",
      "  out=out, **kwargs)\n",
      "C:\\Users\\Claire\\Anaconda3\\lib\\site-packages\\numpy\\core\\_methods.py:85: RuntimeWarning: invalid value encountered in double_scalars\n",
      "  ret = ret.dtype.type(ret / rcount)\n"
     ]
    }
   ],
   "source": [
    "diverse = defaultdict(float)\n",
    "for u in train_user:\n",
    "    diverse[u] = diverse_reader(u)"
   ]
  },
  {
   "cell_type": "code",
   "execution_count": 25,
   "metadata": {},
   "outputs": [
    {
     "data": {
      "text/plain": [
       "11357"
      ]
     },
     "execution_count": 25,
     "metadata": {},
     "output_type": "execute_result"
    }
   ],
   "source": [
    "len(diverse)"
   ]
  },
  {
   "cell_type": "code",
   "execution_count": 82,
   "metadata": {},
   "outputs": [],
   "source": [
    "X = []\n",
    "y = []\n",
    "for u,b in zip(train_user,train_read):\n",
    "    p = popular(b)\n",
    "    a = active_user(u)\n",
    "    J = Jaccard_simi(u,b)\n",
    "    d = diverse[u]\n",
    "    feat = [p,a,J,d]\n",
    "    X.append(feat)\n",
    "    y.append(1)"
   ]
  },
  {
   "cell_type": "code",
   "execution_count": 83,
   "metadata": {},
   "outputs": [],
   "source": [
    "for u,b in zip(train_user,train_unread):\n",
    "    p = popular(b)\n",
    "    a = active_user(u)\n",
    "    J = Jaccard_simi(u,b)\n",
    "    d = diverse[u]\n",
    "    feat = [p,a,J,d]\n",
    "    X.append(feat)\n",
    "    y.append(0)"
   ]
  },
  {
   "cell_type": "code",
   "execution_count": 106,
   "metadata": {},
   "outputs": [],
   "source": [
    "x0 = pd.DataFrame(X).fillna(0).values"
   ]
  },
  {
   "cell_type": "code",
   "execution_count": null,
   "metadata": {},
   "outputs": [],
   "source": []
  },
  {
   "cell_type": "code",
   "execution_count": null,
   "metadata": {},
   "outputs": [],
   "source": []
  },
  {
   "cell_type": "code",
   "execution_count": 107,
   "metadata": {},
   "outputs": [
    {
     "name": "stderr",
     "output_type": "stream",
     "text": [
      "C:\\Users\\Claire\\Anaconda3\\lib\\site-packages\\sklearn\\linear_model\\logistic.py:433: FutureWarning: Default solver will be changed to 'lbfgs' in 0.22. Specify a solver to silence this warning.\n",
      "  FutureWarning)\n"
     ]
    }
   ],
   "source": [
    "from sklearn.linear_model import LogisticRegression\n",
    "lg  = LogisticRegression().fit(x0,y)"
   ]
  },
  {
   "cell_type": "code",
   "execution_count": 108,
   "metadata": {},
   "outputs": [],
   "source": [
    "X_val = []\n",
    "y_val = []\n",
    "for u,b in zip(val_user,val_read):\n",
    "    p = popular(b)\n",
    "    a = active_user(u)\n",
    "    J = Jaccard_simi(u,b)\n",
    "    d = diverse[u]\n",
    "    feat = [p,a,J,d]\n",
    "    X_val.append(feat)\n",
    "    y_val.append(1)"
   ]
  },
  {
   "cell_type": "code",
   "execution_count": 110,
   "metadata": {},
   "outputs": [],
   "source": [
    "for u,b in zip(val_user,val_unread):\n",
    "    p = popular(b)\n",
    "    a = active_user(u)\n",
    "    J = Jaccard_simi(u,b)\n",
    "    d = diverse[u]\n",
    "    feat = [p,a,J,d]\n",
    "    X_val.append(feat)\n",
    "    y_val.append(0)"
   ]
  },
  {
   "cell_type": "code",
   "execution_count": 112,
   "metadata": {},
   "outputs": [],
   "source": [
    "xv = pd.DataFrame(X_val).fillna(0).values"
   ]
  },
  {
   "cell_type": "code",
   "execution_count": 126,
   "metadata": {
    "scrolled": true
   },
   "outputs": [
    {
     "data": {
      "text/plain": [
       "SVC(C=1.0, cache_size=200, class_weight=None, coef0=0.0,\n",
       "  decision_function_shape='ovr', degree=3, gamma='scale', kernel='rbf',\n",
       "  max_iter=-1, probability=False, random_state=None, shrinking=True,\n",
       "  tol=0.001, verbose=False)"
      ]
     },
     "execution_count": 126,
     "metadata": {},
     "output_type": "execute_result"
    }
   ],
   "source": [
    "from sklearn import svm\n",
    "clf = svm.SVC(gamma='scale')\n",
    "clf.fit(x0, y) "
   ]
  },
  {
   "cell_type": "code",
   "execution_count": null,
   "metadata": {},
   "outputs": [],
   "source": [
    "import pandas as pd\n",
    "df = pd.DataFrame(index = )"
   ]
  },
  {
   "cell_type": "code",
   "execution_count": 146,
   "metadata": {},
   "outputs": [
    {
     "data": {
      "text/plain": [
       "KNeighborsClassifier(algorithm='auto', leaf_size=30, metric='minkowski',\n",
       "           metric_params=None, n_jobs=None, n_neighbors=5, p=2,\n",
       "           weights='uniform')"
      ]
     },
     "execution_count": 146,
     "metadata": {},
     "output_type": "execute_result"
    }
   ],
   "source": [
    "from sklearn.neighbors import KNeighborsClassifier\n",
    "neigh = KNeighborsClassifier(n_neighbors=5)\n",
    "neigh.fit(x0, y) "
   ]
  },
  {
   "cell_type": "code",
   "execution_count": 136,
   "metadata": {},
   "outputs": [
    {
     "data": {
      "text/plain": [
       "array([1, 1, 1, ..., 0, 0, 0])"
      ]
     },
     "execution_count": 136,
     "metadata": {},
     "output_type": "execute_result"
    }
   ],
   "source": [
    "neigh.predict(x0)"
   ]
  },
  {
   "cell_type": "code",
   "execution_count": null,
   "metadata": {},
   "outputs": [],
   "source": []
  },
  {
   "cell_type": "code",
   "execution_count": 147,
   "metadata": {},
   "outputs": [
    {
     "data": {
      "text/plain": [
       "0.5"
      ]
     },
     "execution_count": 147,
     "metadata": {},
     "output_type": "execute_result"
    }
   ],
   "source": [
    "neigh.score(xv,y_val)"
   ]
  },
  {
   "cell_type": "code",
   "execution_count": 3,
   "metadata": {},
   "outputs": [],
   "source": [
    "userbook = defaultdict(set)\n",
    "bookuser = defaultdict(set)\n",
    "totalRead = 0\n",
    "bookCount = defaultdict(int)\n",
    "train_user = set()\n",
    "train_book = set()\n",
    "for user,book,_ in readCSV(\"train_Interactions.csv.gz\"):\n",
    "    totalRead += 1\n",
    "    bookCount[book]+=1\n",
    "    userbook[user].add(book)\n",
    "    bookuser[book].add(user)\n",
    "    train_user.add(user)\n",
    "    train_book.add(book)"
   ]
  },
  {
   "cell_type": "code",
   "execution_count": 4,
   "metadata": {},
   "outputs": [
    {
     "data": {
      "text/html": [
       "<div>\n",
       "<style scoped>\n",
       "    .dataframe tbody tr th:only-of-type {\n",
       "        vertical-align: middle;\n",
       "    }\n",
       "\n",
       "    .dataframe tbody tr th {\n",
       "        vertical-align: top;\n",
       "    }\n",
       "\n",
       "    .dataframe thead th {\n",
       "        text-align: right;\n",
       "    }\n",
       "</style>\n",
       "<table border=\"1\" class=\"dataframe\">\n",
       "  <thead>\n",
       "    <tr style=\"text-align: right;\">\n",
       "      <th></th>\n",
       "      <th>b20017661</th>\n",
       "      <th>b08859581</th>\n",
       "      <th>b64523826</th>\n",
       "      <th>b08176289</th>\n",
       "      <th>b63619427</th>\n",
       "      <th>b31775906</th>\n",
       "      <th>b66569501</th>\n",
       "      <th>b71134815</th>\n",
       "      <th>b01673006</th>\n",
       "      <th>b69711484</th>\n",
       "      <th>...</th>\n",
       "      <th>b51723116</th>\n",
       "      <th>b26102890</th>\n",
       "      <th>b99994927</th>\n",
       "      <th>b36538437</th>\n",
       "      <th>b94507782</th>\n",
       "      <th>b34256560</th>\n",
       "      <th>b91057787</th>\n",
       "      <th>b39273891</th>\n",
       "      <th>b78149644</th>\n",
       "      <th>b28940989</th>\n",
       "    </tr>\n",
       "  </thead>\n",
       "  <tbody>\n",
       "    <tr>\n",
       "      <th>u94552123</th>\n",
       "      <td>0</td>\n",
       "      <td>0</td>\n",
       "      <td>0</td>\n",
       "      <td>0</td>\n",
       "      <td>0</td>\n",
       "      <td>0</td>\n",
       "      <td>0</td>\n",
       "      <td>0</td>\n",
       "      <td>0</td>\n",
       "      <td>0</td>\n",
       "      <td>...</td>\n",
       "      <td>0</td>\n",
       "      <td>0</td>\n",
       "      <td>0</td>\n",
       "      <td>0</td>\n",
       "      <td>0</td>\n",
       "      <td>0</td>\n",
       "      <td>0</td>\n",
       "      <td>0</td>\n",
       "      <td>0</td>\n",
       "      <td>0</td>\n",
       "    </tr>\n",
       "    <tr>\n",
       "      <th>u17723608</th>\n",
       "      <td>0</td>\n",
       "      <td>0</td>\n",
       "      <td>0</td>\n",
       "      <td>0</td>\n",
       "      <td>0</td>\n",
       "      <td>0</td>\n",
       "      <td>0</td>\n",
       "      <td>0</td>\n",
       "      <td>0</td>\n",
       "      <td>0</td>\n",
       "      <td>...</td>\n",
       "      <td>0</td>\n",
       "      <td>0</td>\n",
       "      <td>0</td>\n",
       "      <td>0</td>\n",
       "      <td>0</td>\n",
       "      <td>0</td>\n",
       "      <td>0</td>\n",
       "      <td>0</td>\n",
       "      <td>0</td>\n",
       "      <td>0</td>\n",
       "    </tr>\n",
       "    <tr>\n",
       "      <th>u43906778</th>\n",
       "      <td>0</td>\n",
       "      <td>0</td>\n",
       "      <td>0</td>\n",
       "      <td>0</td>\n",
       "      <td>0</td>\n",
       "      <td>0</td>\n",
       "      <td>0</td>\n",
       "      <td>0</td>\n",
       "      <td>0</td>\n",
       "      <td>0</td>\n",
       "      <td>...</td>\n",
       "      <td>0</td>\n",
       "      <td>0</td>\n",
       "      <td>0</td>\n",
       "      <td>0</td>\n",
       "      <td>0</td>\n",
       "      <td>0</td>\n",
       "      <td>0</td>\n",
       "      <td>0</td>\n",
       "      <td>0</td>\n",
       "      <td>0</td>\n",
       "    </tr>\n",
       "    <tr>\n",
       "      <th>u31251874</th>\n",
       "      <td>0</td>\n",
       "      <td>0</td>\n",
       "      <td>0</td>\n",
       "      <td>0</td>\n",
       "      <td>0</td>\n",
       "      <td>0</td>\n",
       "      <td>0</td>\n",
       "      <td>0</td>\n",
       "      <td>0</td>\n",
       "      <td>0</td>\n",
       "      <td>...</td>\n",
       "      <td>0</td>\n",
       "      <td>0</td>\n",
       "      <td>0</td>\n",
       "      <td>0</td>\n",
       "      <td>0</td>\n",
       "      <td>0</td>\n",
       "      <td>0</td>\n",
       "      <td>0</td>\n",
       "      <td>0</td>\n",
       "      <td>0</td>\n",
       "    </tr>\n",
       "    <tr>\n",
       "      <th>u34322850</th>\n",
       "      <td>0</td>\n",
       "      <td>0</td>\n",
       "      <td>0</td>\n",
       "      <td>0</td>\n",
       "      <td>0</td>\n",
       "      <td>0</td>\n",
       "      <td>0</td>\n",
       "      <td>0</td>\n",
       "      <td>0</td>\n",
       "      <td>0</td>\n",
       "      <td>...</td>\n",
       "      <td>0</td>\n",
       "      <td>0</td>\n",
       "      <td>0</td>\n",
       "      <td>0</td>\n",
       "      <td>0</td>\n",
       "      <td>0</td>\n",
       "      <td>0</td>\n",
       "      <td>0</td>\n",
       "      <td>0</td>\n",
       "      <td>0</td>\n",
       "    </tr>\n",
       "  </tbody>\n",
       "</table>\n",
       "<p>5 rows × 7170 columns</p>\n",
       "</div>"
      ],
      "text/plain": [
       "           b20017661  b08859581  b64523826  b08176289  b63619427  b31775906  \\\n",
       "u94552123          0          0          0          0          0          0   \n",
       "u17723608          0          0          0          0          0          0   \n",
       "u43906778          0          0          0          0          0          0   \n",
       "u31251874          0          0          0          0          0          0   \n",
       "u34322850          0          0          0          0          0          0   \n",
       "\n",
       "           b66569501  b71134815  b01673006  b69711484    ...      b51723116  \\\n",
       "u94552123          0          0          0          0    ...              0   \n",
       "u17723608          0          0          0          0    ...              0   \n",
       "u43906778          0          0          0          0    ...              0   \n",
       "u31251874          0          0          0          0    ...              0   \n",
       "u34322850          0          0          0          0    ...              0   \n",
       "\n",
       "           b26102890  b99994927  b36538437  b94507782  b34256560  b91057787  \\\n",
       "u94552123          0          0          0          0          0          0   \n",
       "u17723608          0          0          0          0          0          0   \n",
       "u43906778          0          0          0          0          0          0   \n",
       "u31251874          0          0          0          0          0          0   \n",
       "u34322850          0          0          0          0          0          0   \n",
       "\n",
       "           b39273891  b78149644  b28940989  \n",
       "u94552123          0          0          0  \n",
       "u17723608          0          0          0  \n",
       "u43906778          0          0          0  \n",
       "u31251874          0          0          0  \n",
       "u34322850          0          0          0  \n",
       "\n",
       "[5 rows x 7170 columns]"
      ]
     },
     "execution_count": 4,
     "metadata": {},
     "output_type": "execute_result"
    }
   ],
   "source": [
    "df = pd.DataFrame(index = train_user)\n",
    "for i in train_book:\n",
    "    u = bookuser[i]\n",
    "    r = [1 if x in u else 0 for x in train_user]\n",
    "    df[i] = r\n",
    "df.head()"
   ]
  },
  {
   "cell_type": "code",
   "execution_count": 5,
   "metadata": {},
   "outputs": [],
   "source": [
    "import math\n",
    "def cosine(a,b):\n",
    "    return np.dot(a, b)/(np.linalg.norm(a)*np.linalg.norm(b))"
   ]
  },
  {
   "cell_type": "code",
   "execution_count": 26,
   "metadata": {},
   "outputs": [],
   "source": [
    "mostPopular = [(bookCount[x], x) for x in bookCount]\n",
    "mostPopular.sort()\n",
    "mostPopular.reverse()\n",
    "popularity = set()\n",
    "count = 0\n",
    "for ic, i in mostPopular:\n",
    "    count += ic\n",
    "    popularity.add(i)\n",
    "    if count > totalRead/1.7: break"
   ]
  },
  {
   "cell_type": "code",
   "execution_count": null,
   "metadata": {},
   "outputs": [],
   "source": []
  },
  {
   "cell_type": "code",
   "execution_count": null,
   "metadata": {},
   "outputs": [],
   "source": []
  },
  {
   "cell_type": "code",
   "execution_count": 7,
   "metadata": {},
   "outputs": [],
   "source": [
    "# appear = defaultdict(int)\n",
    "\n",
    "# predictions = open(\"predictions_Read.txt\", 'w')\n",
    "# for l in open(\"pairs_Read.txt\"):\n",
    "#     if l.startswith(\"userID\"):\n",
    "#       #header\n",
    "#         predictions.write(l)\n",
    "#         continue\n",
    "#     u,b = l.strip().split('-')\n",
    "#     users = df[b]\n",
    "#     cos = []\n",
    "#     for book in userbook[u]:\n",
    "#         cos.append(cosine(users,df[book]))\n",
    "#     meancos = np.mean(cos)\n",
    "#     pred = 0\n",
    "#     appear[u]+=1\n",
    "#     if meancos>0.005 or b in popularity:\n",
    "#         predictions.write(u + '-' + b + \",1\\n\")\n",
    "#     else:\n",
    "#         predictions.write(u + '-' + b + \",0\\n\")\n",
    "# predictions.close()\n"
   ]
  },
  {
   "cell_type": "code",
   "execution_count": 8,
   "metadata": {},
   "outputs": [],
   "source": [
    "utest = defaultdict(set)\n",
    "for l in open(\"pairs_Read.txt\"):\n",
    "    if l.startswith(\"userID\"):\n",
    "      #header\n",
    "        continue\n",
    "    u,b = l.strip().split('-')\n",
    "    utest[u].add(b)"
   ]
  },
  {
   "cell_type": "code",
   "execution_count": 28,
   "metadata": {},
   "outputs": [],
   "source": [
    "coef = 0.0045\n",
    "predictions = open(\"predictions_Read.txt\", 'w')\n",
    "predictions.write('userID-bookID,prediction\\n')\n",
    "for p in utest:\n",
    "    if p not in train_user:\n",
    "        pred_book = utest[p]\n",
    "        rank = [(bookCount[b],b) for b in pred_book]\n",
    "        rank.sort()\n",
    "        rank.reverse()\n",
    "        c = 0\n",
    "        for s,b in rank:\n",
    "            if c<len(rank)/2:\n",
    "                predictions.write(p + '-' + b + \",1\\n\")\n",
    "            else:\n",
    "                predictions.write(p + '-' + b + \",0\\n\")\n",
    "            c+=1\n",
    "        continue\n",
    "    \n",
    "    have_read = userbook[p]\n",
    "    pred_book = utest[p]\n",
    "    cosine_simi = []\n",
    "    pop = []\n",
    "    for pd in pred_book:\n",
    "        cos = []\n",
    "        for hr in have_read:\n",
    "            cos.append(cosine(df[pd],df[hr]))\n",
    "        cosine_simi.append(np.mean(cos))\n",
    "        if pd in popularity:\n",
    "            pop.append(1)\n",
    "        else:\n",
    "            pop.append(0)\n",
    "    if p in diverse:\n",
    "        score = 0.9*np.array(cosine_simi) + coef*np.array(pop)\n",
    "    else:\n",
    "        score = np.array(cosine_simi) + coef*np.array(pop)\n",
    "    rank = list(zip(score,pred_book))\n",
    "    rank.sort()\n",
    "    rank.reverse()\n",
    "    c = 0\n",
    "    for s,b in rank:\n",
    "        if c<len(rank)/2:\n",
    "            predictions.write(p + '-' + b + \",1\\n\")\n",
    "        else:\n",
    "            predictions.write(p + '-' + b + \",0\\n\")\n",
    "        c+=1"
   ]
  },
  {
   "cell_type": "code",
   "execution_count": 200,
   "metadata": {},
   "outputs": [
    {
     "data": {
      "text/plain": [
       "{'b43582370', 'b45829752'}"
      ]
     },
     "execution_count": 200,
     "metadata": {},
     "output_type": "execute_result"
    }
   ],
   "source": [
    "def new_book(booklist):\n",
    "    if book in train_book:\n",
    "        return Ture\n",
    "    e"
   ]
  },
  {
   "cell_type": "code",
   "execution_count": null,
   "metadata": {},
   "outputs": [],
   "source": []
  },
  {
   "cell_type": "code",
   "execution_count": null,
   "metadata": {},
   "outputs": [],
   "source": [
    "predictions = open(\"predictions_Read.txt\", 'w')\n",
    "for l in open(\"pairs_Read.txt\"):\n",
    "    if l.startswith(\"userID\"):\n",
    "      #header\n",
    "        predictions.write(l)\n",
    "        continue\n",
    "    u,b = l.strip().split('-')\n",
    "    book = t_user[u]\n",
    "    ja_simi = []\n",
    "    for bs in book:\n",
    "        s = Jaccard(t_book[bs],t_book[b])\n",
    "        ja_simi.append(s)\n",
    "    ja_simi.sort(reverse = True)\n",
    "    if ja_simi[0]> 0.03:\n",
    "        predictions.write(u + '-' + b + \",1\\n\")\n",
    "    else:\n",
    "        if b in return4:\n",
    "            predictions.write(u + '-' + b + \",1\\n\")\n",
    "        else:\n",
    "            predictions.write(u + '-' + b + \",0\\n\")\n",
    "predictions.close()\n"
   ]
  },
  {
   "cell_type": "code",
   "execution_count": null,
   "metadata": {},
   "outputs": [],
   "source": []
  },
  {
   "cell_type": "code",
   "execution_count": 48,
   "metadata": {},
   "outputs": [],
   "source": [
    "#diverse readers"
   ]
  },
  {
   "cell_type": "code",
   "execution_count": null,
   "metadata": {},
   "outputs": [],
   "source": []
  },
  {
   "cell_type": "code",
   "execution_count": 8,
   "metadata": {},
   "outputs": [],
   "source": [
    "pred_read = [1 if d in return1 else 0 for d in val_read]\n",
    "pred_unread = [1 if d in return1 else 0 for d in unread]"
   ]
  },
  {
   "cell_type": "code",
   "execution_count": 9,
   "metadata": {},
   "outputs": [
    {
     "data": {
      "text/plain": [
       "0.6513848615138487"
      ]
     },
     "execution_count": 9,
     "metadata": {},
     "output_type": "execute_result"
    }
   ],
   "source": [
    "accuracy = (sum(pred_read) +(len(pred_unread)-sum(pred_unread)))/(len(pred_read)+ len(pred_unread))\n",
    "accuracy"
   ]
  },
  {
   "cell_type": "code",
   "execution_count": null,
   "metadata": {},
   "outputs": [],
   "source": []
  }
 ],
 "metadata": {
  "kernelspec": {
   "display_name": "Python 3",
   "language": "python",
   "name": "python3"
  },
  "language_info": {
   "codemirror_mode": {
    "name": "ipython",
    "version": 3
   },
   "file_extension": ".py",
   "mimetype": "text/x-python",
   "name": "python",
   "nbconvert_exporter": "python",
   "pygments_lexer": "ipython3",
   "version": "3.6.4"
  }
 },
 "nbformat": 4,
 "nbformat_minor": 2
}
