{
 "cells": [
  {
   "cell_type": "code",
   "execution_count": 1,
   "metadata": {},
   "outputs": [],
   "source": [
    "import numpy\n",
    "from urllib.request import urlopen\n",
    "import scipy.optimize\n",
    "import random\n",
    "from sklearn import svm\n",
    "from sklearn import linear_model\n",
    "import sklearn"
   ]
  },
  {
   "cell_type": "code",
   "execution_count": 2,
   "metadata": {},
   "outputs": [],
   "source": [
    "import pandas as pd\n",
    "import os"
   ]
  },
  {
   "cell_type": "code",
   "execution_count": 3,
   "metadata": {},
   "outputs": [
    {
     "name": "stdout",
     "output_type": "stream",
     "text": [
      "2year.arff\n",
      "3year.arff\n",
      "5year.arff\n",
      "4year.arff\n",
      "1year.arff\n"
     ]
    }
   ],
   "source": [
    "for filename in os.listdir('data'):\n",
    "    print(filename)"
   ]
  },
  {
   "cell_type": "markdown",
   "metadata": {},
   "source": [
    "###\n",
    "### Question 1\n",
    "###\n"
   ]
  },
  {
   "cell_type": "code",
   "execution_count": 4,
   "metadata": {},
   "outputs": [],
   "source": [
    "f = open(\"data/5year.arff\", 'r')\n",
    "\n",
    "while not '@data' in f.readline():\n",
    "    pass\n",
    "    "
   ]
  },
  {
   "cell_type": "code",
   "execution_count": 5,
   "metadata": {},
   "outputs": [],
   "source": [
    "dataset = []\n",
    "for l in f:\n",
    "    if '?' in l: # Missing entry\n",
    "        continue\n",
    "    l = l.split(',')\n",
    "    \n",
    "    values = [1] + [float(x) for x in l]\n",
    "    values[-1] = values[-1] > 0 # Convert to bool\n",
    "    dataset.append(values)\n"
   ]
  },
  {
   "cell_type": "code",
   "execution_count": 6,
   "metadata": {},
   "outputs": [],
   "source": [
    "X = [d[:-1] for d in dataset]\n",
    "Y = [d[-1] for d in dataset]"
   ]
  },
  {
   "cell_type": "code",
   "execution_count": 7,
   "metadata": {},
   "outputs": [],
   "source": [
    "mod=linear_model.LogisticRegression(C=1.0)"
   ]
  },
  {
   "cell_type": "code",
   "execution_count": 8,
   "metadata": {},
   "outputs": [
    {
     "name": "stderr",
     "output_type": "stream",
     "text": [
      "//anaconda3/lib/python3.7/site-packages/sklearn/linear_model/logistic.py:432: FutureWarning: Default solver will be changed to 'lbfgs' in 0.22. Specify a solver to silence this warning.\n",
      "  FutureWarning)\n",
      "//anaconda3/lib/python3.7/site-packages/sklearn/svm/base.py:929: ConvergenceWarning: Liblinear failed to converge, increase the number of iterations.\n",
      "  \"the number of iterations.\", ConvergenceWarning)\n"
     ]
    },
    {
     "data": {
      "text/plain": [
       "LogisticRegression(C=1.0, class_weight=None, dual=False, fit_intercept=True,\n",
       "                   intercept_scaling=1, l1_ratio=None, max_iter=100,\n",
       "                   multi_class='warn', n_jobs=None, penalty='l2',\n",
       "                   random_state=None, solver='warn', tol=0.0001, verbose=0,\n",
       "                   warm_start=False)"
      ]
     },
     "execution_count": 8,
     "metadata": {},
     "output_type": "execute_result"
    }
   ],
   "source": [
    "mod.fit(X,Y)"
   ]
  },
  {
   "cell_type": "code",
   "execution_count": 9,
   "metadata": {},
   "outputs": [],
   "source": [
    "pred=mod.predict(X)"
   ]
  },
  {
   "cell_type": "code",
   "execution_count": 10,
   "metadata": {},
   "outputs": [
    {
     "data": {
      "text/plain": [
       "array([False, False, False, ..., False, False, False])"
      ]
     },
     "execution_count": 10,
     "metadata": {},
     "output_type": "execute_result"
    }
   ],
   "source": [
    "pred"
   ]
  },
  {
   "cell_type": "code",
   "execution_count": 11,
   "metadata": {},
   "outputs": [
    {
     "data": {
      "text/plain": [
       "0.9663477400197954"
      ]
     },
     "execution_count": 11,
     "metadata": {},
     "output_type": "execute_result"
    }
   ],
   "source": [
    "sum(pred==Y)/len(Y)"
   ]
  },
  {
   "cell_type": "markdown",
   "metadata": {},
   "source": [
    "###\n",
    "#### accuracy=0.966\n",
    "###"
   ]
  },
  {
   "cell_type": "code",
   "execution_count": 17,
   "metadata": {},
   "outputs": [
    {
     "name": "stdout",
     "output_type": "stream",
     "text": [
      "4\n",
      "4\n",
      "2925\n"
     ]
    }
   ],
   "source": [
    "TP=sum(numpy.logical_and(pred, Y))\n",
    "FP=sum(numpy.logical_and(pred, numpy.logical_not(Y)))\n",
    "TN=sum(numpy.logical_and(numpy.logical_not(pred), numpy.logical_not(Y)))\n",
    "FN=sum(numpy.logical_and(numpy.logical_not(pred), Y))\n",
    "print(TP)\n",
    "print(FP)\n",
    "print(TN)"
   ]
  },
  {
   "cell_type": "code",
   "execution_count": 13,
   "metadata": {},
   "outputs": [],
   "source": [
    "BER=1 - 0.5 * (TP / (TP + FN) + TN / (TN + FP))"
   ]
  },
  {
   "cell_type": "code",
   "execution_count": 14,
   "metadata": {},
   "outputs": [
    {
     "data": {
      "text/plain": [
       "0.4810749837661251"
      ]
     },
     "execution_count": 14,
     "metadata": {},
     "output_type": "execute_result"
    }
   ],
   "source": [
    "BER"
   ]
  },
  {
   "cell_type": "markdown",
   "metadata": {},
   "source": [
    "###\n",
    "#### BER=0.48\n",
    "###"
   ]
  },
  {
   "cell_type": "markdown",
   "metadata": {},
   "source": [
    "###\n",
    "### Question 2\n",
    "###"
   ]
  },
  {
   "cell_type": "code",
   "execution_count": 31,
   "metadata": {},
   "outputs": [],
   "source": [
    "mod2=linear_model.LogisticRegression(C=1.0, class_weight='balanced')"
   ]
  },
  {
   "cell_type": "code",
   "execution_count": 32,
   "metadata": {},
   "outputs": [
    {
     "name": "stderr",
     "output_type": "stream",
     "text": [
      "//anaconda3/lib/python3.7/site-packages/sklearn/linear_model/logistic.py:432: FutureWarning: Default solver will be changed to 'lbfgs' in 0.22. Specify a solver to silence this warning.\n",
      "  FutureWarning)\n",
      "//anaconda3/lib/python3.7/site-packages/sklearn/svm/base.py:929: ConvergenceWarning: Liblinear failed to converge, increase the number of iterations.\n",
      "  \"the number of iterations.\", ConvergenceWarning)\n"
     ]
    },
    {
     "data": {
      "text/plain": [
       "LogisticRegression(C=1.0, class_weight='balanced', dual=False,\n",
       "                   fit_intercept=True, intercept_scaling=1, l1_ratio=None,\n",
       "                   max_iter=100, multi_class='warn', n_jobs=None, penalty='l2',\n",
       "                   random_state=None, solver='warn', tol=0.0001, verbose=0,\n",
       "                   warm_start=False)"
      ]
     },
     "execution_count": 32,
     "metadata": {},
     "output_type": "execute_result"
    }
   ],
   "source": [
    "mod2.fit(X, Y)"
   ]
  },
  {
   "cell_type": "code",
   "execution_count": 33,
   "metadata": {},
   "outputs": [],
   "source": [
    "pred2=mod2.predict(X)"
   ]
  },
  {
   "cell_type": "code",
   "execution_count": 34,
   "metadata": {},
   "outputs": [
    {
     "data": {
      "text/plain": [
       "0.7786209171890465"
      ]
     },
     "execution_count": 34,
     "metadata": {},
     "output_type": "execute_result"
    }
   ],
   "source": [
    "sum(pred2==Y)/len(Y)"
   ]
  },
  {
   "cell_type": "markdown",
   "metadata": {},
   "source": [
    "###\n",
    "#### accuracy=0.7786\n",
    "###"
   ]
  },
  {
   "cell_type": "code",
   "execution_count": 35,
   "metadata": {},
   "outputs": [],
   "source": [
    "TP=sum(numpy.logical_and(pred2, Y))\n",
    "FP=sum(numpy.logical_and(pred2, numpy.logical_not(Y)))\n",
    "TN=sum(numpy.logical_and(numpy.logical_not(pred2), numpy.logical_not(Y)))\n",
    "FN=sum(numpy.logical_and(numpy.logical_not(pred2), Y))"
   ]
  },
  {
   "cell_type": "code",
   "execution_count": 36,
   "metadata": {},
   "outputs": [
    {
     "data": {
      "text/plain": [
       "0.21390054826983718"
      ]
     },
     "execution_count": 36,
     "metadata": {},
     "output_type": "execute_result"
    }
   ],
   "source": [
    "1-0.5*(TP/(TP+FN)+TN/(TN+FP))"
   ]
  },
  {
   "cell_type": "markdown",
   "metadata": {},
   "source": [
    "###\n",
    "#### BER=0.2139\n",
    "###"
   ]
  },
  {
   "cell_type": "markdown",
   "metadata": {},
   "source": [
    "###\n",
    "### Question 3\n",
    "###"
   ]
  },
  {
   "cell_type": "code",
   "execution_count": 37,
   "metadata": {},
   "outputs": [],
   "source": [
    "# Shuffle the data\n",
    "shuffled=(list(zip(X, Y)))\n",
    "random.shuffle(shuffled)"
   ]
  },
  {
   "cell_type": "code",
   "execution_count": 38,
   "metadata": {},
   "outputs": [],
   "source": [
    "X_s=[i[0] for i in shuffled]\n",
    "Y_s=[i[1] for i in shuffled]"
   ]
  },
  {
   "cell_type": "code",
   "execution_count": 39,
   "metadata": {},
   "outputs": [],
   "source": [
    "N=len(Y_s)\n",
    "Xs_train, Xs_val, Xs_test=X_s[:int(N*0.5)], X_s[int(N*0.5):int(N*0.75)],X_s[int(N*0.75):] \n",
    "Ys_train, Ys_val, Ys_test=Y_s[:int(N*0.5)], Y_s[int(N*0.5):int(N*0.75)],Y_s[int(N*0.75):] \n",
    "\n"
   ]
  },
  {
   "cell_type": "code",
   "execution_count": 40,
   "metadata": {},
   "outputs": [
    {
     "name": "stderr",
     "output_type": "stream",
     "text": [
      "//anaconda3/lib/python3.7/site-packages/sklearn/linear_model/logistic.py:432: FutureWarning: Default solver will be changed to 'lbfgs' in 0.22. Specify a solver to silence this warning.\n",
      "  FutureWarning)\n",
      "//anaconda3/lib/python3.7/site-packages/sklearn/svm/base.py:929: ConvergenceWarning: Liblinear failed to converge, increase the number of iterations.\n",
      "  \"the number of iterations.\", ConvergenceWarning)\n"
     ]
    },
    {
     "name": "stdout",
     "output_type": "stream",
     "text": [
      "0.7742574257425743\n",
      "0.21000288787813148\n",
      "0.737467018469657\n",
      "0.2902864938608458\n",
      "0.7361477572559367\n",
      "0.20846883468834687\n"
     ]
    }
   ],
   "source": [
    "mod3=mod2.fit(Xs_train, Ys_train)\n",
    "ls_x=[Xs_train, Xs_val, Xs_test]\n",
    "ls_y=[Ys_train, Ys_val, Ys_test]\n",
    "def BER(pred, Y):\n",
    "    TP=sum(numpy.logical_and(pred, Y))\n",
    "    FP=sum(numpy.logical_and(pred, numpy.logical_not(Y)))\n",
    "    TN=sum(numpy.logical_and(numpy.logical_not(pred), numpy.logical_not(Y)))\n",
    "    FN=sum(numpy.logical_and(numpy.logical_not(pred), Y))\n",
    "    BER=1-0.5*(TP/(TP+FN)+TN/(TN+FP))\n",
    "    return BER\n",
    "\n",
    "for i in range(3):\n",
    "    pred=mod3.predict(ls_x[i])\n",
    "    accuracy=sum(pred==ls_y[i])/len(pred)\n",
    "    print(accuracy)\n",
    "    print(BER(pred, ls_y[i]))\n",
    "    \n",
    "\n",
    "\n",
    "def Ber2(X, Y, num_c):\n",
    "    for i in range(len(X)):\n",
    "        return i\n",
    "        \n",
    "    "
   ]
  },
  {
   "cell_type": "markdown",
   "metadata": {},
   "source": [
    "### \n",
    "#### accuracy for train, validation and test are 0.8072, 0.7981, 0.8100\n",
    "#### BER for train, validation and test are 0.6103, 0.7054, 0.6336\n",
    "###"
   ]
  },
  {
   "cell_type": "markdown",
   "metadata": {},
   "source": [
    "### \n",
    "### Question 4\n",
    "###\n"
   ]
  },
  {
   "cell_type": "code",
   "execution_count": 41,
   "metadata": {},
   "outputs": [
    {
     "name": "stderr",
     "output_type": "stream",
     "text": [
      "//anaconda3/lib/python3.7/site-packages/sklearn/linear_model/logistic.py:432: FutureWarning: Default solver will be changed to 'lbfgs' in 0.22. Specify a solver to silence this warning.\n",
      "  FutureWarning)\n",
      "//anaconda3/lib/python3.7/site-packages/sklearn/linear_model/logistic.py:432: FutureWarning: Default solver will be changed to 'lbfgs' in 0.22. Specify a solver to silence this warning.\n",
      "  FutureWarning)\n",
      "//anaconda3/lib/python3.7/site-packages/sklearn/svm/base.py:929: ConvergenceWarning: Liblinear failed to converge, increase the number of iterations.\n",
      "  \"the number of iterations.\", ConvergenceWarning)\n",
      "//anaconda3/lib/python3.7/site-packages/sklearn/linear_model/logistic.py:432: FutureWarning: Default solver will be changed to 'lbfgs' in 0.22. Specify a solver to silence this warning.\n",
      "  FutureWarning)\n",
      "//anaconda3/lib/python3.7/site-packages/sklearn/svm/base.py:929: ConvergenceWarning: Liblinear failed to converge, increase the number of iterations.\n",
      "  \"the number of iterations.\", ConvergenceWarning)\n",
      "//anaconda3/lib/python3.7/site-packages/sklearn/linear_model/logistic.py:432: FutureWarning: Default solver will be changed to 'lbfgs' in 0.22. Specify a solver to silence this warning.\n",
      "  FutureWarning)\n",
      "//anaconda3/lib/python3.7/site-packages/sklearn/svm/base.py:929: ConvergenceWarning: Liblinear failed to converge, increase the number of iterations.\n",
      "  \"the number of iterations.\", ConvergenceWarning)\n",
      "//anaconda3/lib/python3.7/site-packages/sklearn/linear_model/logistic.py:432: FutureWarning: Default solver will be changed to 'lbfgs' in 0.22. Specify a solver to silence this warning.\n",
      "  FutureWarning)\n",
      "//anaconda3/lib/python3.7/site-packages/sklearn/svm/base.py:929: ConvergenceWarning: Liblinear failed to converge, increase the number of iterations.\n",
      "  \"the number of iterations.\", ConvergenceWarning)\n",
      "//anaconda3/lib/python3.7/site-packages/sklearn/linear_model/logistic.py:432: FutureWarning: Default solver will be changed to 'lbfgs' in 0.22. Specify a solver to silence this warning.\n",
      "  FutureWarning)\n",
      "//anaconda3/lib/python3.7/site-packages/sklearn/svm/base.py:929: ConvergenceWarning: Liblinear failed to converge, increase the number of iterations.\n",
      "  \"the number of iterations.\", ConvergenceWarning)\n",
      "//anaconda3/lib/python3.7/site-packages/sklearn/linear_model/logistic.py:432: FutureWarning: Default solver will be changed to 'lbfgs' in 0.22. Specify a solver to silence this warning.\n",
      "  FutureWarning)\n",
      "//anaconda3/lib/python3.7/site-packages/sklearn/svm/base.py:929: ConvergenceWarning: Liblinear failed to converge, increase the number of iterations.\n",
      "  \"the number of iterations.\", ConvergenceWarning)\n",
      "//anaconda3/lib/python3.7/site-packages/sklearn/linear_model/logistic.py:432: FutureWarning: Default solver will be changed to 'lbfgs' in 0.22. Specify a solver to silence this warning.\n",
      "  FutureWarning)\n",
      "//anaconda3/lib/python3.7/site-packages/sklearn/svm/base.py:929: ConvergenceWarning: Liblinear failed to converge, increase the number of iterations.\n",
      "  \"the number of iterations.\", ConvergenceWarning)\n",
      "//anaconda3/lib/python3.7/site-packages/sklearn/linear_model/logistic.py:432: FutureWarning: Default solver will be changed to 'lbfgs' in 0.22. Specify a solver to silence this warning.\n",
      "  FutureWarning)\n",
      "//anaconda3/lib/python3.7/site-packages/sklearn/svm/base.py:929: ConvergenceWarning: Liblinear failed to converge, increase the number of iterations.\n",
      "  \"the number of iterations.\", ConvergenceWarning)\n"
     ]
    }
   ],
   "source": [
    "ls_BER=[]\n",
    "ls_x=[Xs_train, Xs_val, Xs_test]\n",
    "ls_y=[Ys_train, Ys_val, Ys_test]\n",
    "for n in range(-4, 5,1):\n",
    "    mod=linear_model.LogisticRegression(C=10**n, class_weight=\"balanced\")\n",
    "    mod.fit(ls_x[0], ls_y[0])\n",
    "    ls=[]\n",
    "    for i in range(3):\n",
    "        pred=mod.predict(ls_x[i])\n",
    "        ber=BER(pred, ls_y[i])\n",
    "        ls.append(ber)\n",
    "    ls_BER.append(ls)\n",
    "\n",
    "    \n",
    "        \n",
    "        \n",
    "        \n",
    "    "
   ]
  },
  {
   "cell_type": "code",
   "execution_count": 42,
   "metadata": {},
   "outputs": [
    {
     "data": {
      "text/plain": [
       "[[0.23675185907154717, 0.3032469304229195, 0.2037940379403793],\n",
       " [0.22729405819074433, 0.32733969986357436, 0.20243902439024386],\n",
       " [0.2242076384376579, 0.3232469304229195, 0.20040650406504068],\n",
       " [0.22249296079705438, 0.3218826739427012, 0.1983739837398374],\n",
       " [0.21000288787813148, 0.2902864938608458, 0.20846883468834687],\n",
       " [0.21906360551584725, 0.31778990450204636, 0.19701897018970183],\n",
       " [0.21872066998772643, 0.31778990450204636, 0.19566395663956637],\n",
       " [0.21151902389719157, 0.31506139154160984, 0.19430894308943092],\n",
       " [0.2139195725940366, 0.3171077762619372, 0.19566395663956637]]"
      ]
     },
     "execution_count": 42,
     "metadata": {},
     "output_type": "execute_result"
    }
   ],
   "source": [
    "ls_BER"
   ]
  },
  {
   "cell_type": "code",
   "execution_count": 43,
   "metadata": {},
   "outputs": [],
   "source": [
    "import matplotlib.pyplot as plt"
   ]
  },
  {
   "cell_type": "code",
   "execution_count": 44,
   "metadata": {},
   "outputs": [
    {
     "data": {
      "image/png": "[encoded data removed]",
      "text/plain": [
       "<Figure size 432x288 with 1 Axes>"
      ]
     },
     "metadata": {
      "needs_background": "light"
     },
     "output_type": "display_data"
    }
   ],
   "source": [
    "c=[10**n for n in range(-4, 5)]\n",
    "\n",
    "ber_train=[x[0] for x in ls_BER]\n",
    "ber_valid=[x[1] for x in ls_BER]\n",
    "ber_test=[x[2] for x in ls_BER]\n",
    "plt.plot(c, ber_train,color='g', label='train')\n",
    "plt.plot(c, ber_valid, color='blue',label='valid')\n",
    "plt.plot(c, ber_test, color='orange',label='test')\n",
    "plt.title(\"BER on three dataset with different C\")\n",
    "plt.show()\n"
   ]
  },
  {
   "cell_type": "markdown",
   "metadata": {},
   "source": [
    "###\n",
    "#### Since the larger BER is, the larger error rate on average. When C=10^3, BER is the smallest. Therefore, I will choose select the 8th classifier\n",
    "###"
   ]
  },
  {
   "cell_type": "markdown",
   "metadata": {},
   "source": [
    "###\n",
    "### Question 5\n",
    "###"
   ]
  },
  {
   "cell_type": "code",
   "execution_count": 46,
   "metadata": {},
   "outputs": [],
   "source": [
    "def Fb(pred, Y, b):\n",
    "    TP=sum(numpy.logical_and(pred, Y))\n",
    "    FP=sum(numpy.logical_and(pred, numpy.logical_not(Y)))\n",
    "    TN=sum(numpy.logical_and(numpy.logical_not(pred), numpy.logical_not(Y)))\n",
    "    FN=sum(numpy.logical_and(numpy.logical_not(pred), Y))\n",
    "    fb=(1+b**2)*TP/((1+b**2)*TP+(b**2)*FN+FP)\n",
    "    return fb"
   ]
  },
  {
   "cell_type": "code",
   "execution_count": 47,
   "metadata": {},
   "outputs": [
    {
     "name": "stderr",
     "output_type": "stream",
     "text": [
      "//anaconda3/lib/python3.7/site-packages/sklearn/linear_model/logistic.py:432: FutureWarning: Default solver will be changed to 'lbfgs' in 0.22. Specify a solver to silence this warning.\n",
      "  FutureWarning)\n",
      "//anaconda3/lib/python3.7/site-packages/sklearn/svm/base.py:929: ConvergenceWarning: Liblinear failed to converge, increase the number of iterations.\n",
      "  \"the number of iterations.\", ConvergenceWarning)\n"
     ]
    }
   ],
   "source": [
    "mod=linear_model.LogisticRegression(C=1, class_weight=\"balanced\")\n",
    "mod.fit(Xs_test, Ys_test)\n",
    "pred=mod.predict(Xs_test)\n",
    "ls_fb=[]\n",
    "for b in [0.1, 1, 10]:\n",
    "    fb=Fb(pred, Ys_test, b)\n",
    "    ls_fb.append(fb)\n",
    "   "
   ]
  },
  {
   "cell_type": "code",
   "execution_count": 48,
   "metadata": {},
   "outputs": [
    {
     "data": {
      "text/plain": [
       "[0.14520766773162938, 0.2482758620689655, 0.8555294117647059]"
      ]
     },
     "execution_count": 48,
     "metadata": {},
     "output_type": "execute_result"
    }
   ],
   "source": [
    "ls_fb"
   ]
  },
  {
   "cell_type": "code",
   "execution_count": 49,
   "metadata": {},
   "outputs": [],
   "source": [
    "import numpy\n",
    "from urllib.request import urlopen\n",
    "import scipy.optimize\n",
    "import random\n",
    "from sklearn.decomposition import PCA\n",
    "from collections import defaultdict"
   ]
  },
  {
   "cell_type": "markdown",
   "metadata": {},
   "source": [
    "###\n",
    "### Question 1\n",
    "###"
   ]
  },
  {
   "cell_type": "code",
   "execution_count": 50,
   "metadata": {},
   "outputs": [
    {
     "data": {
      "text/plain": [
       "PCA(copy=True, iterated_power='auto', n_components=None, random_state=None,\n",
       "    svd_solver='auto', tol=0.0, whiten=False)"
      ]
     },
     "execution_count": 50,
     "metadata": {},
     "output_type": "execute_result"
    }
   ],
   "source": [
    "pca=PCA()\n",
    "pca.fit(Xs_train)"
   ]
  },
  {
   "cell_type": "code",
   "execution_count": 51,
   "metadata": {},
   "outputs": [
    {
     "name": "stdout",
     "output_type": "stream",
     "text": [
      "[-4.96368974e-19  2.18243884e-07 -9.99039922e-07  1.12654761e-06\n",
      "  3.52061405e-06  2.56836874e-03  7.48059669e-07  2.50637788e-07\n",
      "  4.91080172e-06 -6.34697992e-07  9.35262806e-07  1.93909898e-07\n",
      "  1.01800281e-06 -6.31754545e-06  2.50221436e-07  6.76904777e-03\n",
      "  1.10030561e-06  5.41136705e-06  9.71932774e-08  2.19859373e-07\n",
      "  4.65917150e-06 -6.47922708e-09  1.72433904e-07  1.90620180e-07\n",
      "  6.49624570e-07  1.23337587e-06  9.61598907e-07 -9.12059026e-05\n",
      "  2.06637375e-06  4.29639462e-06 -1.41680418e-06  1.97154819e-07\n",
      " -4.27985161e-04  6.44971385e-06 -2.37506890e-06  1.42315768e-07\n",
      " -2.47388047e-07  6.93592788e-03  7.96730861e-07  1.17328487e-07\n",
      "  1.38734879e-06 -2.04250153e-06  4.00937408e-08  5.25625467e-06\n",
      "  5.95618917e-07 -3.86509140e-06  2.52991584e-06 -8.44990269e-05\n",
      "  2.04760672e-07  1.76723956e-07  3.67239066e-06 -7.99118889e-07\n",
      " -1.16201857e-06 -5.07982142e-06  2.04656491e-06  9.99949583e-01\n",
      "  8.55257804e-08  2.99509655e-07 -1.90227690e-07  2.13223673e-06\n",
      " -2.04327701e-04 -1.50455806e-05 -2.60063658e-04  7.48393005e-06\n",
      " -2.40077936e-06]\n"
     ]
    }
   ],
   "source": [
    "print(pca.components_[0])"
   ]
  },
  {
   "cell_type": "markdown",
   "metadata": {},
   "source": [
    "###\n",
    "### Question 2\n",
    "###"
   ]
  },
  {
   "cell_type": "code",
   "execution_count": 52,
   "metadata": {},
   "outputs": [
    {
     "name": "stderr",
     "output_type": "stream",
     "text": [
      "//anaconda3/lib/python3.7/site-packages/sklearn/linear_model/logistic.py:432: FutureWarning: Default solver will be changed to 'lbfgs' in 0.22. Specify a solver to silence this warning.\n",
      "  FutureWarning)\n",
      "//anaconda3/lib/python3.7/site-packages/sklearn/linear_model/logistic.py:432: FutureWarning: Default solver will be changed to 'lbfgs' in 0.22. Specify a solver to silence this warning.\n",
      "  FutureWarning)\n",
      "//anaconda3/lib/python3.7/site-packages/sklearn/linear_model/logistic.py:432: FutureWarning: Default solver will be changed to 'lbfgs' in 0.22. Specify a solver to silence this warning.\n",
      "  FutureWarning)\n",
      "//anaconda3/lib/python3.7/site-packages/sklearn/linear_model/logistic.py:432: FutureWarning: Default solver will be changed to 'lbfgs' in 0.22. Specify a solver to silence this warning.\n",
      "  FutureWarning)\n",
      "//anaconda3/lib/python3.7/site-packages/sklearn/svm/base.py:929: ConvergenceWarning: Liblinear failed to converge, increase the number of iterations.\n",
      "  \"the number of iterations.\", ConvergenceWarning)\n",
      "//anaconda3/lib/python3.7/site-packages/sklearn/linear_model/logistic.py:432: FutureWarning: Default solver will be changed to 'lbfgs' in 0.22. Specify a solver to silence this warning.\n",
      "  FutureWarning)\n",
      "//anaconda3/lib/python3.7/site-packages/sklearn/svm/base.py:929: ConvergenceWarning: Liblinear failed to converge, increase the number of iterations.\n",
      "  \"the number of iterations.\", ConvergenceWarning)\n",
      "//anaconda3/lib/python3.7/site-packages/sklearn/linear_model/logistic.py:432: FutureWarning: Default solver will be changed to 'lbfgs' in 0.22. Specify a solver to silence this warning.\n",
      "  FutureWarning)\n",
      "//anaconda3/lib/python3.7/site-packages/sklearn/svm/base.py:929: ConvergenceWarning: Liblinear failed to converge, increase the number of iterations.\n",
      "  \"the number of iterations.\", ConvergenceWarning)\n"
     ]
    }
   ],
   "source": [
    "ls_x=[Xs_train, Xs_val, Xs_test]\n",
    "ls_y=[Ys_train, Ys_val, Ys_test]\n",
    "ls=[]\n",
    "model=sklearn.linear_model.LogisticRegression(C=1, class_weight='balanced')\n",
    "for n in range(5, 31, 5):\n",
    "    pca=PCA(n_components=n)\n",
    "    pca.fit(Xs_train)\n",
    "    Xpca_train = numpy.matmul(Xs_train, pca.components_.T)\n",
    "    model.fit(Xpca_train, Ys_train)\n",
    "    Xpca_valid = numpy.matmul(Xs_val, pca.components_.T)\n",
    "    pred_v=model.predict(Xpca_valid)\n",
    "    ber_v=BER(pred_v, Ys_val)\n",
    "    Xpca_test = numpy.matmul(Xs_test, pca.components_.T)\n",
    "    pred_t=model.predict(Xpca_test)\n",
    "    ber_t=BER(pred_t, Ys_test)\n",
    "    ls_ber=[ber_v, ber_t]\n",
    "    ls.append(ls_ber)\n",
    "    \n",
    "    \n",
    "    \n",
    "    "
   ]
  },
  {
   "cell_type": "code",
   "execution_count": 53,
   "metadata": {},
   "outputs": [
    {
     "data": {
      "text/plain": [
       "[[0.3839290586630286, 0.3369241192411925],\n",
       " [0.3634652114597544, 0.35304878048780486],\n",
       " [0.327094133697135, 0.2590785907859079],\n",
       " [0.2889222373806275, 0.21659891598915992],\n",
       " [0.30870395634379255, 0.20176151761517613],\n",
       " [0.32938608458390184, 0.2037940379403793]]"
      ]
     },
     "execution_count": 53,
     "metadata": {},
     "output_type": "execute_result"
    }
   ],
   "source": [
    "ls"
   ]
  },
  {
   "cell_type": "code",
   "execution_count": null,
   "metadata": {},
   "outputs": [],
   "source": [
    "\n"
   ]
  },
  {
   "cell_type": "code",
   "execution_count": null,
   "metadata": {},
   "outputs": [],
   "source": []
  }
 ],
 "metadata": {
  "kernelspec": {
   "display_name": "Python 3",
   "language": "python",
   "name": "python3"
  },
  "language_info": {
   "codemirror_mode": {
    "name": "ipython",
    "version": 3
   },
   "file_extension": ".py",
   "mimetype": "text/x-python",
   "name": "python",
   "nbconvert_exporter": "python",
   "pygments_lexer": "ipython3",
   "version": "3.7.3"
  }
 },
 "nbformat": 4,
 "nbformat_minor": 2
}
